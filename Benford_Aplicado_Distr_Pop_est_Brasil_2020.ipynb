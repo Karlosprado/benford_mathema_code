{
 "cells": [
  {
   "cell_type": "markdown",
   "metadata": {},
   "source": [
    "# Lei Newcomb-Benford \n",
    "\n",
    "<img src=\"benford3.jpeg\" width=500>\n",
    "\n"
   ]
  },
  {
   "cell_type": "markdown",
   "metadata": {},
   "source": [
    "Neste estudo iremos abordar a Lei Newcomb-Benford (Lei NB) foi descoberta por Simon Newcomb em 1881, quando percebeu o fato de livros contendo tabelas logarítmicas, em várias bibliotecas, apresentarem indícios de maior desgaste nas primeiras páginas. Como as páginas iniciais desses livros continham os valores dos logaritmos de números que começavam com dígitos mais baixos (dígitos 1, 2 e 3, por exemplo), Newcomb concluiu que as pessoas procuravam valores de logaritmos que começavam com dígitos mais baixos muito mais do que aqueles que começou com dígitos mais altos (dígitos 7, 8 e 9, por exemplo). Newcomb (1881), em seu artigo intitulado Nota sobre a Frequência de Uso dos Diferentes Dígitos em Números Naturais, concluiu que “a lei da probabilidade de ocorrência dos números é tal que todas as mantissas de seus logaritmos são igualmente prováveis”. Ainda nessa linha de trabalho, Benford (1938) expôs as mesmas conclusões de Newcomb, apresentando mais de 20.000 resultados de ajustes pela Lei, em diversas bases de dados de diferentes ramos de pesquisa. "
   ]
  },
  {
   "cell_type": "markdown",
   "metadata": {},
   "source": [
    "<img src=\"Anomalos_numbers.png\" width=900>\n",
    "\n",
    "###### fonte: Originais do artigo \"The Law of Anomalous Numbers\" exibindo  a aplicação da distribuição de Frequência da Lei NB para distribuição populacional. \n"
   ]
  },
  {
   "cell_type": "markdown",
   "metadata": {},
   "source": [
    "No âmbito dos estudos de desvios financeiros, tem-se utilizado como procedimento de auditoria o padrão NB-Lei, aplicado à análise da conformidade de um conjunto de dados financeiros através da detecção de desvios em relação ao padrão de ocorrência esperado para os dígitos de uma posição analisada . Nesse sentido, destacam-se estudos anteriores conduzidos por Carslaw (1988), Nigrini (1996), Nigrini e Mittermaier (1997), Watrin, Struffert e Ullmann (2008), entre outros."
   ]
  },
  {
   "cell_type": "markdown",
   "metadata": {},
   "source": [
    "<img src=\"benford2.jpeg\" width=300>"
   ]
  },
  {
   "cell_type": "markdown",
   "metadata": {},
   "source": [
    "Entretanto, as aplicações da NB-Lei se estendem por outras distribuições, tais como em número de votos nas eleições e casos de COVID reportados por países,  conforme abaixo. \n",
    "\n",
    "<img src=\"leiNB2.png\" width=600>\n",
    "\n",
    "Veremos um pouco destas aplicações fazendo uso da Linguagem  de Programação em Python, que torna os estudos mais fáceis e agradáveis. "
   ]
  },
  {
   "cell_type": "code",
   "execution_count": 1,
   "metadata": {},
   "outputs": [],
   "source": [
    "#importação da biblioteca pandas para dataframes e matplotlib para graficos\n",
    "import pandas as pd\n",
    "import matplotlib.pyplot as plt"
   ]
  },
  {
   "cell_type": "code",
   "execution_count": 2,
   "metadata": {},
   "outputs": [
    {
     "data": {
      "text/html": [
       "<div>\n",
       "<style scoped>\n",
       "    .dataframe tbody tr th:only-of-type {\n",
       "        vertical-align: middle;\n",
       "    }\n",
       "\n",
       "    .dataframe tbody tr th {\n",
       "        vertical-align: top;\n",
       "    }\n",
       "\n",
       "    .dataframe thead th {\n",
       "        text-align: right;\n",
       "    }\n",
       "</style>\n",
       "<table border=\"1\" class=\"dataframe\">\n",
       "  <thead>\n",
       "    <tr style=\"text-align: right;\">\n",
       "      <th></th>\n",
       "      <th>UF</th>\n",
       "      <th>COD. UF</th>\n",
       "      <th>COD. MUNIC</th>\n",
       "      <th>NOME DO MUNICÍPIO</th>\n",
       "      <th>POPULAÇÃO ESTIMADA</th>\n",
       "    </tr>\n",
       "  </thead>\n",
       "  <tbody>\n",
       "    <tr>\n",
       "      <th>0</th>\n",
       "      <td>RO</td>\n",
       "      <td>11</td>\n",
       "      <td>15</td>\n",
       "      <td>Alta Floresta D'Oeste</td>\n",
       "      <td>23.167</td>\n",
       "    </tr>\n",
       "    <tr>\n",
       "      <th>1</th>\n",
       "      <td>RO</td>\n",
       "      <td>11</td>\n",
       "      <td>23</td>\n",
       "      <td>Ariquemes</td>\n",
       "      <td>106.168</td>\n",
       "    </tr>\n",
       "    <tr>\n",
       "      <th>2</th>\n",
       "      <td>RO</td>\n",
       "      <td>11</td>\n",
       "      <td>31</td>\n",
       "      <td>Cabixi</td>\n",
       "      <td>5.438</td>\n",
       "    </tr>\n",
       "    <tr>\n",
       "      <th>3</th>\n",
       "      <td>RO</td>\n",
       "      <td>11</td>\n",
       "      <td>49</td>\n",
       "      <td>Cacoal</td>\n",
       "      <td>84.813</td>\n",
       "    </tr>\n",
       "    <tr>\n",
       "      <th>4</th>\n",
       "      <td>RO</td>\n",
       "      <td>11</td>\n",
       "      <td>56</td>\n",
       "      <td>Cerejeiras</td>\n",
       "      <td>16.444</td>\n",
       "    </tr>\n",
       "  </tbody>\n",
       "</table>\n",
       "</div>"
      ],
      "text/plain": [
       "   UF  COD. UF  COD. MUNIC      NOME DO MUNICÍPIO  POPULAÇÃO ESTIMADA \n",
       "0  RO       11          15  Alta Floresta D'Oeste               23.167\n",
       "1  RO       11          23              Ariquemes              106.168\n",
       "2  RO       11          31                 Cabixi                5.438\n",
       "3  RO       11          49                 Cacoal               84.813\n",
       "4  RO       11          56             Cerejeiras               16.444"
      ]
     },
     "execution_count": 2,
     "metadata": {},
     "output_type": "execute_result"
    }
   ],
   "source": [
    "#importando as bases de dados a serem analisadas *fonte: Portal Golverno Federal https://sidra.ibge.gov.br/tabela/6579\n",
    "df_populacao_est2020 = pd.read_csv('/home/carlos/Área de trabalho/MATEMACODE/Estudos_Benford /est_pop_2020.csv', sep=\",\")\n",
    "df_populacao_est2020.head()"
   ]
  },
  {
   "cell_type": "code",
   "execution_count": 3,
   "metadata": {},
   "outputs": [
    {
     "data": {
      "text/plain": [
       "Index(['UF', 'COD. UF', 'COD. MUNIC', 'NOME DO MUNICÍPIO',\n",
       "       ' POPULAÇÃO ESTIMADA '],\n",
       "      dtype='object')"
      ]
     },
     "execution_count": 3,
     "metadata": {},
     "output_type": "execute_result"
    }
   ],
   "source": [
    "df_populacao_est2020.columns"
   ]
  },
  {
   "cell_type": "code",
   "execution_count": 4,
   "metadata": {},
   "outputs": [
    {
     "data": {
      "text/html": [
       "<div>\n",
       "<style scoped>\n",
       "    .dataframe tbody tr th:only-of-type {\n",
       "        vertical-align: middle;\n",
       "    }\n",
       "\n",
       "    .dataframe tbody tr th {\n",
       "        vertical-align: top;\n",
       "    }\n",
       "\n",
       "    .dataframe thead th {\n",
       "        text-align: right;\n",
       "    }\n",
       "</style>\n",
       "<table border=\"1\" class=\"dataframe\">\n",
       "  <thead>\n",
       "    <tr style=\"text-align: right;\">\n",
       "      <th></th>\n",
       "      <th>População residente estimada 2020</th>\n",
       "      <th>pop</th>\n",
       "    </tr>\n",
       "  </thead>\n",
       "  <tbody>\n",
       "    <tr>\n",
       "      <th>0</th>\n",
       "      <td>Serra da Saudade</td>\n",
       "      <td>776</td>\n",
       "    </tr>\n",
       "    <tr>\n",
       "      <th>1</th>\n",
       "      <td>Borá</td>\n",
       "      <td>838</td>\n",
       "    </tr>\n",
       "    <tr>\n",
       "      <th>2</th>\n",
       "      <td>Araguainha</td>\n",
       "      <td>946</td>\n",
       "    </tr>\n",
       "    <tr>\n",
       "      <th>3</th>\n",
       "      <td>Engenho Velho</td>\n",
       "      <td>982</td>\n",
       "    </tr>\n",
       "    <tr>\n",
       "      <th>4</th>\n",
       "      <td>Oliveira de Fátima</td>\n",
       "      <td>1118</td>\n",
       "    </tr>\n",
       "  </tbody>\n",
       "</table>\n",
       "</div>"
      ],
      "text/plain": [
       "  População residente estimada 2020    pop\n",
       "0                   Serra da Saudade   776\n",
       "1                               Borá   838\n",
       "2                         Araguainha   946\n",
       "3                      Engenho Velho   982\n",
       "4                 Oliveira de Fátima  1118"
      ]
     },
     "execution_count": 4,
     "metadata": {},
     "output_type": "execute_result"
    }
   ],
   "source": [
    "#importando as bases de dados a serem analisadas *fonte: Portal Golverno Federalhttps://www.ibge.gov.br/estatisticas/sociais/populacao/9103-estimativas-de-populacao.html?=&t=downloads\n",
    "df_populacao_est2020_2 = pd.read_csv('/home/carlos/Área de trabalho/MATEMACODE/Estudos_Benford /pop_est_2020.csv', sep=\";\")\n",
    "df_populacao_est2020_2.head()"
   ]
  },
  {
   "cell_type": "code",
   "execution_count": 5,
   "metadata": {},
   "outputs": [
    {
     "data": {
      "text/plain": [
       "Index(['População residente estimada 2020 ', 'pop'], dtype='object')"
      ]
     },
     "execution_count": 5,
     "metadata": {},
     "output_type": "execute_result"
    }
   ],
   "source": [
    "df_populacao_est2020_2.columns"
   ]
  },
  {
   "cell_type": "code",
   "execution_count": 6,
   "metadata": {},
   "outputs": [],
   "source": [
    "#Função para extração dos primeiros dois dígitos do número absolouto da população de cada município e conversão em string\n",
    "def primeiros_digito(numero):\n",
    "    return str(numero)[:2]"
   ]
  },
  {
   "cell_type": "code",
   "execution_count": 7,
   "metadata": {},
   "outputs": [
    {
     "data": {
      "text/plain": [
       "'20'"
      ]
     },
     "execution_count": 7,
     "metadata": {},
     "output_type": "execute_result"
    }
   ],
   "source": [
    "primeiros_digito(200)"
   ]
  },
  {
   "cell_type": "code",
   "execution_count": 29,
   "metadata": {},
   "outputs": [],
   "source": [
    "#Função para acumular a frequência de cada um dos primeiros dígitos de cada valor da coluna escolhida(exceto o zero) retornando já com a aplicação da função primeiros dígitos\n",
    "def frequencia_digitos(coluna):\n",
    "    filtro = coluna.apply(primeiros_digito)!='0'\n",
    "    return coluna.loc[filtro].apply(primeiros_digito).value_counts(normalize=True)"
   ]
  },
  {
   "cell_type": "markdown",
   "metadata": {},
   "source": [
    "<center> <h2>Fórmula Matemática da distribuição Newcomb Benford Law NBL</h2></center>\n",
    "\n",
    "\n",
    "\n",
    "$$log_{10}\\left ( 1 + \\frac{1}{d} \\right )$$"
   ]
  },
  {
   "cell_type": "code",
   "execution_count": 30,
   "metadata": {},
   "outputs": [],
   "source": [
    "#importação da biblioteca de calculos matemáticos \n",
    "import math"
   ]
  },
  {
   "cell_type": "code",
   "execution_count": 31,
   "metadata": {},
   "outputs": [
    {
     "data": {
      "text/plain": [
       "0.014240439114610285"
      ]
     },
     "execution_count": 31,
     "metadata": {},
     "output_type": "execute_result"
    }
   ],
   "source": [
    "#Exemplo de calculo Matemátco usando o math\n",
    "digito = 30\n",
    "math.log10(1+1/digito)"
   ]
  },
  {
   "cell_type": "code",
   "execution_count": 34,
   "metadata": {},
   "outputs": [],
   "source": [
    "#Lista de digitos para aplicação da fórmula de Benford para criação da base de comparação \n",
    "projetar = range(10,100)"
   ]
  },
  {
   "cell_type": "code",
   "execution_count": 36,
   "metadata": {
    "collapsed": true,
    "jupyter": {
     "outputs_hidden": true
    }
   },
   "outputs": [
    {
     "data": {
      "text/plain": [
       "[0.04139268515822507,\n",
       " 0.037788560889399754,\n",
       " 0.03476210625921191,\n",
       " 0.032184683371401235,\n",
       " 0.029963223377443202,\n",
       " 0.028028723600243534,\n",
       " 0.026328938722349145,\n",
       " 0.024823583725032145,\n",
       " 0.023481095849522904,\n",
       " 0.02227639471115221,\n",
       " 0.021189299069938092,\n",
       " 0.02020338608828699,\n",
       " 0.019305155195386624,\n",
       " 0.018483405694013133,\n",
       " 0.017728766960431616,\n",
       " 0.01703333929878037,\n",
       " 0.016390416188169384,\n",
       " 0.015794267183231882,\n",
       " 0.015239966556736905,\n",
       " 0.014723256820706378,\n",
       " 0.014240439114610285,\n",
       " 0.013788284485633283,\n",
       " 0.013363961557981502,\n",
       " 0.012964977164367635,\n",
       " 0.012589127308020467,\n",
       " 0.012234456417011586,\n",
       " 0.01189922329970769,\n",
       " 0.011581872549815138,\n",
       " 0.011281010409689084,\n",
       " 0.010995384301463145,\n",
       " 0.010723865391773066,\n",
       " 0.010465433678164977,\n",
       " 0.010219165181686028,\n",
       " 0.009984220906600923,\n",
       " 0.00975983728915624,\n",
       " 0.009545317906230361,\n",
       " 0.009340026254143432,\n",
       " 0.009143379439869719,\n",
       " 0.008954842652926412,\n",
       " 0.008773924307505152,\n",
       " 0.008600171761917567,\n",
       " 0.008433167536862764,\n",
       " 0.008272525965989857,\n",
       " 0.00811789022217946,\n",
       " 0.007968929671275373,\n",
       " 0.007825337511956526,\n",
       " 0.007686828666290955,\n",
       " 0.007553137890445907,\n",
       " 0.0074240180792068755,\n",
       " 0.007299238741499423,\n",
       " 0.007178584627123376,\n",
       " 0.007061854487486849,\n",
       " 0.006948859955327825,\n",
       " 0.006839424530305441,\n",
       " 0.006733382658968403,\n",
       " 0.006630578899013076,\n",
       " 0.006530867158957755,\n",
       " 0.006434110005409903,\n",
       " 0.006340178031018974,\n",
       " 0.006248949277001542,\n",
       " 0.006160308704818433,\n",
       " 0.006074147712193166,\n",
       " 0.005990363689187419,\n",
       " 0.005908859610520314,\n",
       " 0.005829543660723891,\n",
       " 0.0057523288890913415,\n",
       " 0.005677132891690489,\n",
       " 0.0056038775179984845,\n",
       " 0.0055324885999610066,\n",
       " 0.005462895701502187,\n",
       " 0.005395031886706145,\n",
       " 0.005328833505066964,\n",
       " 0.0052642399923572185,\n",
       " 0.005201193685807723,\n",
       " 0.005139639652411057,\n",
       " 0.00507952552927497,\n",
       " 0.005020801375050812,\n",
       " 0.0049634195315501435,\n",
       " 0.0049073344947442015,\n",
       " 0.004852502794412101,\n",
       " 0.004798882881768708,\n",
       " 0.0047464350244616526,\n",
       " 0.004695121208379869,\n",
       " 0.004644905045763538,\n",
       " 0.004595751689149137,\n",
       " 0.004547627750720661,\n",
       " 0.004500501226676471,\n",
       " 0.004454341426249989,\n",
       " 0.004409118905055015,\n",
       " 0.0043648054024501125]"
      ]
     },
     "execution_count": 36,
     "metadata": {},
     "output_type": "execute_result"
    }
   ],
   "source": [
    "#aplicando a Fŕmula NBL na lista projetar calculando a frequencia esperada de cada dígito.\n",
    "\n",
    "frequencia_esperada=[math.log10(1+1/digito)for digito in projetar]\n",
    "frequencia_esperada"
   ]
  },
  {
   "cell_type": "code",
   "execution_count": 22,
   "metadata": {},
   "outputs": [],
   "source": [
    "#função para criar um dataframe contendo as distribuições por digito esperada e real para plotar grafico. \n",
    "\n",
    "def benford(coluna):\n",
    "    df_final = pd.DataFrame(index=[str(digito)for digito in projetar])\n",
    "    df_final[\"esperado\"] = frequencia_esperada\n",
    "    df_final['real'] = frequencia_digitos(coluna) \n",
    "    #df_final.plot.bar()\n",
    "    return df_final"
   ]
  },
  {
   "cell_type": "code",
   "execution_count": 24,
   "metadata": {},
   "outputs": [
    {
     "data": {
      "image/png": "[encoded data removed]",
      "text/plain": [
       "<Figure size 1152x648 with 1 Axes>"
      ]
     },
     "metadata": {
      "needs_background": "light"
     },
     "output_type": "display_data"
    }
   ],
   "source": [
    "#Comparação da freq. da coluna comment_count com a freq. esperada Benford\n",
    "benford(df_populacao_est2020_2['pop']).plot.bar(figsize=(16,9));\n",
    "#plt.savefig('myfig') \"remova o '#' para obter e salvar uma umagem do gráfico gerado"
   ]
  },
  {
   "cell_type": "code",
   "execution_count": 25,
   "metadata": {},
   "outputs": [
    {
     "data": {
      "image/png": "[encoded data removed]",
      "text/plain": [
       "<Figure size 1152x648 with 1 Axes>"
      ]
     },
     "metadata": {
      "needs_background": "light"
     },
     "output_type": "display_data"
    }
   ],
   "source": [
    "#Comparação da freq. da coluna comment_count com a freq. esperada Benford\n",
    "benford(df_populacao_est2020[' POPULAÇÃO ESTIMADA ']).plot.bar(figsize=(16,9));\n"
   ]
  },
  {
   "cell_type": "markdown",
   "metadata": {},
   "source": []
  },
  {
   "cell_type": "markdown",
   "metadata": {},
   "source": [
    "#### Conclusão: Por se tratar de uma base de dados contendo a população estimada, a distribuição resultante se aproxima da Distribuição de Benford, principalmente no primeiro gráfico exibido. \n",
    "> ##### Nota: O censo populacional brasileiro acontece a cada 10 anos. O último censo populacional ocorreu em 2010 e teve os dados publicados a partir de 2011.\n"
   ]
  },
  {
   "cell_type": "code",
   "execution_count": null,
   "metadata": {},
   "outputs": [],
   "source": []
  },
  {
   "cell_type": "code",
   "execution_count": null,
   "metadata": {},
   "outputs": [],
   "source": []
  },
  {
   "cell_type": "code",
   "execution_count": null,
   "metadata": {},
   "outputs": [],
   "source": []
  }
 ],
 "metadata": {
  "kernelspec": {
   "display_name": "Python 3",
   "language": "python",
   "name": "python3"
  },
  "language_info": {
   "codemirror_mode": {
    "name": "ipython",
    "version": 3
   },
   "file_extension": ".py",
   "mimetype": "text/x-python",
   "name": "python",
   "nbconvert_exporter": "python",
   "pygments_lexer": "ipython3",
   "version": "3.7.3"
  }
 },
 "nbformat": 4,
 "nbformat_minor": 4
}
